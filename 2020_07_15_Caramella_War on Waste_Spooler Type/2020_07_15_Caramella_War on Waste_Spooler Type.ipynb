{
 "cells": [
  {
   "cell_type": "markdown",
   "metadata": {},
   "source": [
    "# Spooler Utilization\n",
    "<hr style=\"border:3px solid gray\"> </hr>"
   ]
  },
  {
   "cell_type": "markdown",
   "metadata": {},
   "source": [
    "## Project Objective & Deliverables\n",
    "Identify process improvements utilizing Bite Size spooler during Original turtle production.<br>\n",
    "Justify utilizing Bite Size spooler during Original turtle production instaed of the Original spooler.<br>\n",
    "Reduced flipped, chopped, and poor row alignment. "
   ]
  },
  {
   "cell_type": "markdown",
   "metadata": {},
   "source": [
    "## Key Take Aways\n",
    "1. Utilize the Bite spooler during Original turtle production relative to the Original spooler to observe these savings.\n",
    "2. Conservatively, you save roughly \\\\$36.84, pounds of turtles every hour.\n",
    "3. Conservatively, you save roughly 72.94 of direct costs every hour.\n",
    "4. In this case, you save roughly 351.50 pounds of turtles every hour.\n",
    "5. In this case, scrap change by 175.75 percent.\n",
    "6. In this case, you save roughly \\\\$695.90 of direct costs every hour."
   ]
  },
  {
   "cell_type": "markdown",
   "metadata": {},
   "source": [
    "<hr style=\"border:2px solid gray\"> </hr>"
   ]
  },
  {
   "cell_type": "markdown",
   "metadata": {},
   "source": [
    "## Analysis"
   ]
  },
  {
   "cell_type": "code",
   "execution_count": 1,
   "metadata": {},
   "outputs": [],
   "source": [
    "# Import pertinent modules.\n",
    "from scipy.stats import ttest_ind,sem,t\n",
    "import numpy as np\n",
    "import pandas as pd\n",
    "import matplotlib.pyplot as plt"
   ]
  },
  {
   "cell_type": "code",
   "execution_count": 2,
   "metadata": {},
   "outputs": [],
   "source": [
    "# Load data and declare variable types.\n",
    "base_data = pd.read_excel('2020_07_15_War on Waste_Spooler Data.xlsx','Spooler')\n",
    "base_data = base_data.astype({'Caramel Moisture': int, 'Caramel Depositor Deposition Volume (°C)': int, 'Spooler Defects':int})"
   ]
  },
  {
   "cell_type": "code",
   "execution_count": 3,
   "metadata": {},
   "outputs": [
    {
     "data": {
      "text/html": [
       "<div>\n",
       "<style scoped>\n",
       "    .dataframe tbody tr th:only-of-type {\n",
       "        vertical-align: middle;\n",
       "    }\n",
       "\n",
       "    .dataframe tbody tr th {\n",
       "        vertical-align: top;\n",
       "    }\n",
       "\n",
       "    .dataframe thead tr th {\n",
       "        text-align: left;\n",
       "    }\n",
       "\n",
       "    .dataframe thead tr:last-of-type th {\n",
       "        text-align: right;\n",
       "    }\n",
       "</style>\n",
       "<table border=\"1\" class=\"dataframe\">\n",
       "  <thead>\n",
       "    <tr>\n",
       "      <th></th>\n",
       "      <th colspan=\"8\" halign=\"left\">Spooler Defects</th>\n",
       "    </tr>\n",
       "    <tr>\n",
       "      <th></th>\n",
       "      <th>count</th>\n",
       "      <th>mean</th>\n",
       "      <th>std</th>\n",
       "      <th>min</th>\n",
       "      <th>25%</th>\n",
       "      <th>50%</th>\n",
       "      <th>75%</th>\n",
       "      <th>max</th>\n",
       "    </tr>\n",
       "    <tr>\n",
       "      <th>Spooler Type</th>\n",
       "      <th></th>\n",
       "      <th></th>\n",
       "      <th></th>\n",
       "      <th></th>\n",
       "      <th></th>\n",
       "      <th></th>\n",
       "      <th></th>\n",
       "      <th></th>\n",
       "    </tr>\n",
       "  </thead>\n",
       "  <tbody>\n",
       "    <tr>\n",
       "      <th>Bite</th>\n",
       "      <td>25.0</td>\n",
       "      <td>34.88</td>\n",
       "      <td>39.636179</td>\n",
       "      <td>6.0</td>\n",
       "      <td>17.00</td>\n",
       "      <td>19.0</td>\n",
       "      <td>27.0</td>\n",
       "      <td>151.0</td>\n",
       "    </tr>\n",
       "    <tr>\n",
       "      <th>Original</th>\n",
       "      <td>10.0</td>\n",
       "      <td>97.00</td>\n",
       "      <td>22.251092</td>\n",
       "      <td>64.0</td>\n",
       "      <td>77.25</td>\n",
       "      <td>103.0</td>\n",
       "      <td>111.5</td>\n",
       "      <td>126.0</td>\n",
       "    </tr>\n",
       "  </tbody>\n",
       "</table>\n",
       "</div>"
      ],
      "text/plain": [
       "             Spooler Defects                                               \\\n",
       "                       count   mean        std   min    25%    50%    75%   \n",
       "Spooler Type                                                                \n",
       "Bite                    25.0  34.88  39.636179   6.0  17.00   19.0   27.0   \n",
       "Original                10.0  97.00  22.251092  64.0  77.25  103.0  111.5   \n",
       "\n",
       "                     \n",
       "                max  \n",
       "Spooler Type         \n",
       "Bite          151.0  \n",
       "Original      126.0  "
      ]
     },
     "execution_count": 3,
     "metadata": {},
     "output_type": "execute_result"
    }
   ],
   "source": [
    "# Group Data and Describe Results\n",
    "grouped_data = base_data.groupby('Spooler Type')\n",
    "grouped_data[['Spooler Defects']].describe()"
   ]
  },
  {
   "cell_type": "code",
   "execution_count": 4,
   "metadata": {},
   "outputs": [],
   "source": [
    "# Marginalize Spooler Types\n",
    "bite_spooler = base_data[base_data['Spooler Type'] == 'Bite']\n",
    "original_spooler = base_data[base_data['Spooler Type'] == 'Original']"
   ]
  },
  {
   "cell_type": "markdown",
   "metadata": {},
   "source": [
    "## Timeplot of Bite Spooler Defects"
   ]
  },
  {
   "cell_type": "code",
   "execution_count": 5,
   "metadata": {},
   "outputs": [
    {
     "data": {
      "image/png": "[encoded data removed]",
      "text/plain": [
       "<Figure size 648x360 with 1 Axes>"
      ]
     },
     "metadata": {
      "needs_background": "light"
     },
     "output_type": "display_data"
    }
   ],
   "source": [
    "# Define figure size.\n",
    "fig = plt.figure(figsize=(9, 5))\n",
    "# Plot variables, color, and marker.\n",
    "plt.plot(bite_spooler['Timestamp'],bite_spooler['Spooler Defects'],color='k',marker='*')\n",
    "# Plot title and axises labels.\n",
    "plt.title('Bite Spooler Defects')\n",
    "plt.xlabel('Time')\n",
    "plt.ylabel('Defects')\n",
    "# Plot format date as x-axis.\n",
    "plt.gcf().autofmt_xdate()\n",
    "# Plot watermark grid lines.\n",
    "plt.grid(color='r',linestyle='-',linewidth=0.2)\n",
    "plt.show()"
   ]
  },
  {
   "cell_type": "markdown",
   "metadata": {},
   "source": [
    "What happened from 08:00 to 08:30? After following up with Adam, he adjusted the first cooling tunnel and blower percentage to reduce the turtles' heat. Following the adjustments, we remained consistent and efficient."
   ]
  },
  {
   "cell_type": "code",
   "execution_count": 6,
   "metadata": {},
   "outputs": [],
   "source": [
    "# Remove extremeity from bite size\n",
    "bite_spooler = base_data[base_data['Spooler Defects'] < 80]"
   ]
  },
  {
   "cell_type": "markdown",
   "metadata": {},
   "source": [
    "## Timeplot of Original Spooler Defects"
   ]
  },
  {
   "cell_type": "code",
   "execution_count": 7,
   "metadata": {},
   "outputs": [
    {
     "data": {
      "image/png": "[encoded data removed]",
      "text/plain": [
       "<Figure size 648x360 with 1 Axes>"
      ]
     },
     "metadata": {
      "needs_background": "light"
     },
     "output_type": "display_data"
    }
   ],
   "source": [
    "# Define figure size.\n",
    "fig = plt.figure(figsize=(9, 5))\n",
    "# Plot variables, color, and marker.\n",
    "plt.plot(original_spooler['Timestamp'],original_spooler['Spooler Defects'],color='c',marker='x')\n",
    "# Plot title and axises labels.\n",
    "plt.title('Original Spooler Defects')\n",
    "plt.xlabel('Time')\n",
    "plt.ylabel('Defects')\n",
    "# Plot format date as x-axis.\n",
    "plt.gcf().autofmt_xdate()\n",
    "# Plot watermark grid lines.\n",
    "plt.grid(color='r',linestyle='-',linewidth=0.2)\n",
    "plt.show()"
   ]
  },
  {
   "cell_type": "markdown",
   "metadata": {},
   "source": [
    "The Original spooler produces high spooler defects and exhibits excessive inconsistency. Relative to the Bite spooler, the Original Spooler is a major scrap cause."
   ]
  },
  {
   "cell_type": "markdown",
   "metadata": {},
   "source": [
    "<hr style=\"border:2px solid gray\"> </hr>"
   ]
  },
  {
   "cell_type": "markdown",
   "metadata": {},
   "source": [
    "## Spooler Defects by Spooler"
   ]
  },
  {
   "cell_type": "code",
   "execution_count": 8,
   "metadata": {},
   "outputs": [
    {
     "data": {
      "image/png": "[encoded data removed]",
      "text/plain": [
       "<Figure size 432x288 with 1 Axes>"
      ]
     },
     "metadata": {
      "needs_background": "light"
     },
     "output_type": "display_data"
    }
   ],
   "source": [
    "# Define relavent information for plot: Spooler Types, means, and standard deviations.\n",
    "spooler_types = ['Bite','Original']\n",
    "x_pos = np.arange(len(spooler_types))\n",
    "spooler_defect_avgs = [np.mean(bite_spooler['Spooler Defects']),np.mean(original_spooler['Spooler Defects'])]\n",
    "spooler_defect_errs = [np.std(bite_spooler['Spooler Defects']),np.std(original_spooler['Spooler Defects'])]\n",
    "# Define figure.\n",
    "fig, ax = plt.subplots()\n",
    "# Plot variables, color, and marker.\n",
    "ax.bar(x_pos, spooler_defect_avgs, yerr=spooler_defect_errs, align='center', alpha=0.5, ecolor='black', capsize=10)\n",
    "# Plot title and axises labels.\n",
    "ax.set_ylabel('Defects')\n",
    "ax.set_xticks(x_pos)\n",
    "ax.set_xticklabels(spooler_types)\n",
    "ax.set_title('Spooler Defects by Spooler Bar Chart')\n",
    "# Plot watermark grid lines.\n",
    "ax.yaxis.grid(True)"
   ]
  },
  {
   "cell_type": "code",
   "execution_count": 9,
   "metadata": {},
   "outputs": [
    {
     "data": {
      "image/png": "[encoded data removed]",
      "text/plain": [
       "<Figure size 432x288 with 1 Axes>"
      ]
     },
     "metadata": {
      "needs_background": "light"
     },
     "output_type": "display_data"
    }
   ],
   "source": [
    "# Define figure size.\n",
    "fig = plt.figure()\n",
    "ax = fig.add_subplot(111)\n",
    "# Plot title and axises labels.\n",
    "ax.set_title('Spooler Defects by Spooler Box Plot')\n",
    "ax.set_ylabel('Defects')\n",
    "# Plot watermark grid lines.\n",
    "ax.yaxis.grid(True)\n",
    "# Plot variables, color, and marker.\n",
    "bp = ax.boxplot([bite_spooler['Spooler Defects'],original_spooler['Spooler Defects']],\n",
    "                showmeans=True,\n",
    "                labels=['Bite','Original'],\n",
    "                patch_artist=True)\n",
    "# Add color.\n",
    "colors = ['pink','lightgreen']\n",
    "for patch, color in zip(bp['boxes'], colors):\n",
    "    patch.set_facecolor(color)\n",
    "plt.show()"
   ]
  },
  {
   "cell_type": "markdown",
   "metadata": {},
   "source": [
    "Manifestly, the Bite spooler signifcantly reduces spooler defects during 501 production. Therefore, the Original should not be considered during 501 production compared to the Bite spooler."
   ]
  },
  {
   "cell_type": "markdown",
   "metadata": {},
   "source": [
    "## Two-Sample T-Test"
   ]
  },
  {
   "cell_type": "markdown",
   "metadata": {},
   "source": [
    "Ho: Bite Spooler Defects >= Original Spooler Defects\n",
    "<br></br>\n",
    "Ha: Bite Spooler Defects < Original Spooler Defects"
   ]
  },
  {
   "cell_type": "code",
   "execution_count": 10,
   "metadata": {},
   "outputs": [
    {
     "data": {
      "text/plain": [
       "Ttest_indResult(statistic=-10.033580365992464, pvalue=2.0884560129202984e-11)"
      ]
     },
     "execution_count": 10,
     "metadata": {},
     "output_type": "execute_result"
    }
   ],
   "source": [
    "ttest_ind(bite_spooler['Spooler Defects'],original_spooler['Spooler Defects'])"
   ]
  },
  {
   "cell_type": "markdown",
   "metadata": {},
   "source": [
    "Evidently, the p-value is less than alpha, which is 0.05; therefore, I reject the null hypothesis, in favor of the alternate, and conclude that the Bite spooler defects are statistically significanlty less than the Original spooler defects."
   ]
  },
  {
   "cell_type": "markdown",
   "metadata": {},
   "source": [
    "<hr style=\"border:2px solid gray\"> </hr>"
   ]
  },
  {
   "cell_type": "markdown",
   "metadata": {},
   "source": [
    "## Cost Savings"
   ]
  },
  {
   "cell_type": "code",
   "execution_count": 11,
   "metadata": {},
   "outputs": [
    {
     "name": "stdout",
     "output_type": "stream",
     "text": [
      "Conservatively, you save roughly 36.84 pounds of turtles every hour.\n",
      "Conservatively, you save roughly $72.94 of direct costs every hour.\n",
      "In this case, you save roughly 351.5 pounds of turtles every hour.\n",
      "In this case, scrap change by 175.75 percent.\n",
      "In this case, you save roughly $695.9 of direct costs every hour.\n"
     ]
    }
   ],
   "source": [
    "# Confidence Intervals\n",
    "def upper_confidence_limit(sample):\n",
    "    confidence_level = 0.95\n",
    "    degrees_freedom = sample.size - 1\n",
    "    sample_mean = np.mean(sample)\n",
    "    sample_standard_error = sem(sample)\n",
    "    confidence_interval = t.interval(confidence_level, degrees_freedom, sample_mean, sample_standard_error)\n",
    "    return confidence_interval[1]\n",
    "\n",
    "\n",
    "# Bite Upper Confidence Interval\n",
    "bite_upper = upper_confidence_limit(bite_spooler['Spooler Defects'])\n",
    "# Original Upper Confidence Interval\n",
    "original_upper = upper_confidence_limit(original_spooler['Spooler Defects'])\n",
    "# Difference between Bite & Original Upper Confidence Intervals\n",
    "saved_turtles_ea_five_min = original_upper-bite_upper\n",
    "print('Conservatively, you save roughly ' + str((saved_turtles_ea_five_min * 17.3 * 12) * 0.00220462)[:5]\n",
    "      + ' pounds of turtles every hour.')\n",
    "print('Conservatively, you save roughly $' + str((saved_turtles_ea_five_min * 17.3 * 12) * 0.00220462 * 1.98)[:5]\n",
    "      + ' of direct costs every hour.')\n",
    "\n",
    "# Scrap Effects\n",
    "ante_scrap = 400\n",
    "exante_scrap = 1103\n",
    "scrap_change = exante_scrap - ante_scrap\n",
    "scrap_percentage_change = ((scrap_change)/ante_scrap)*100\n",
    "scrap_change_dollar = scrap_change * 1.98\n",
    "print('In this case, you save roughly ' + str(scrap_change/2)[:5] + ' pounds of turtles every hour.')\n",
    "print('In this case, scrap change by ' + str(scrap_percentage_change) + ' percent.')\n",
    "print('In this case, you save roughly $' + str(scrap_change_dollar/2)[:5] + ' of direct costs every hour.')"
   ]
  },
  {
   "cell_type": "markdown",
   "metadata": {},
   "source": [
    "Utilize the Bite spooler during Original turtle production relative to the Original spooler to observe these savings."
   ]
  }
 ],
 "metadata": {
  "kernelspec": {
   "display_name": "Python 3",
   "language": "python",
   "name": "python3"
  },
  "language_info": {
   "codemirror_mode": {
    "name": "ipython",
    "version": 3
   },
   "file_extension": ".py",
   "mimetype": "text/x-python",
   "name": "python",
   "nbconvert_exporter": "python",
   "pygments_lexer": "ipython3",
   "version": "3.7.6"
  }
 },
 "nbformat": 4,
 "nbformat_minor": 4
}
